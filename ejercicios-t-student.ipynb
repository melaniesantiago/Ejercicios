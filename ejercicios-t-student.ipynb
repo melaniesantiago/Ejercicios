{
 "cells": [
  {
   "cell_type": "markdown",
   "metadata": {},
   "source": [
    "# T - Student "
   ]
  },
  {
   "cell_type": "markdown",
   "metadata": {},
   "source": [
    "# Menu\n",
    "\n",
    "- [Ejercicio 1](#ex_1)\n",
    "- [Ejercicio 2](#ex_2)\n",
    "- [Ejercicio 3](#ex_3)\n",
    "- [Ejercicio 4](#ex_4)\n",
    "- [Ejercicio 5](#ex_5)\n",
    "- [Ejercicio 6](#ex_6)\n",
    "- [Ejercicio 7](#ex_7)\n",
    "- [Ejercicio 8](#ex_8)\n",
    "- [Ejercicio 9](#ex_9)"
   ]
  },
  {
   "cell_type": "code",
   "execution_count": 2,
   "metadata": {
    "execution": {
     "iopub.execute_input": "2024-05-22T17:53:28.077651Z",
     "iopub.status.busy": "2024-05-22T17:53:28.077176Z",
     "iopub.status.idle": "2024-05-22T17:53:28.082947Z",
     "shell.execute_reply": "2024-05-22T17:53:28.081497Z",
     "shell.execute_reply.started": "2024-05-22T17:53:28.077614Z"
    },
    "trusted": true
   },
   "outputs": [],
   "source": [
    "from scipy.stats import norm"
   ]
  },
  {
   "cell_type": "markdown",
   "metadata": {
    "_cell_guid": "b1076dfc-b9ad-4769-8c92-a6c4dae69d19",
    "_uuid": "8f2839f25d086af736a60e9eeb907d3b93b6e0e5"
   },
   "source": [
    "<div id=ex_1></div>\n",
    "\n",
    "[[Menu]](#Menu)   |   [[Siguiente]](#ex_2) \n",
    "___\n",
    "<span style=\"color: #153CEE; font-size: 20px; font-weight: bold;\">Ejercicio 1</span>."
   ]
  },
  {
   "cell_type": "markdown",
   "metadata": {},
   "source": [
    "Aquí la descripción del ejercicio"
   ]
  },
  {
   "cell_type": "code",
   "execution_count": 3,
   "metadata": {
    "execution": {
     "iopub.execute_input": "2025-07-07T20:32:25.115190Z",
     "iopub.status.busy": "2025-07-07T20:32:25.114793Z",
     "iopub.status.idle": "2025-07-07T20:32:25.120027Z",
     "shell.execute_reply": "2025-07-07T20:32:25.118956Z",
     "shell.execute_reply.started": "2025-07-07T20:32:25.115162Z"
    },
    "trusted": true
   },
   "outputs": [
    {
     "name": "stdout",
     "output_type": "stream",
     "text": [
      "Aquí el código\n"
     ]
    }
   ],
   "source": [
    "print(\"Aquí el código\")"
   ]
  },
  {
   "cell_type": "markdown",
   "metadata": {},
   "source": [
    "<div id=ex_2></div>\n",
    "\n",
    "[[Menu]](#Menu)   |   [[Anterior]](#ex_1)   [[Siguiente]](#ex_3) \n",
    "___\n",
    "\n",
    "<span style=\"color: #153CEE; font-size: 20px; font-weight: bold;\">Ejercicio 2</span>. "
   ]
  },
  {
   "cell_type": "markdown",
   "metadata": {},
   "source": [
    "Aquí la descripción del ejercicio"
   ]
  },
  {
   "cell_type": "code",
   "execution_count": 4,
   "metadata": {
    "execution": {
     "iopub.execute_input": "2025-07-07T20:32:36.087131Z",
     "iopub.status.busy": "2025-07-07T20:32:36.086712Z",
     "iopub.status.idle": "2025-07-07T20:32:36.092203Z",
     "shell.execute_reply": "2025-07-07T20:32:36.090962Z",
     "shell.execute_reply.started": "2025-07-07T20:32:36.087069Z"
    },
    "trusted": true
   },
   "outputs": [
    {
     "name": "stdout",
     "output_type": "stream",
     "text": [
      "Aquí el código\n"
     ]
    }
   ],
   "source": [
    "print(\"Aquí el código\")"
   ]
  },
  {
   "cell_type": "markdown",
   "metadata": {},
   "source": [
    "<div id=ex_3></div>\n",
    "\n",
    "[[Menu]](#Menu)   |   [[Anterior]](#ex_2)   [[Siguiente]](#ex_4) \n",
    "___\n",
    "\n",
    "<span style=\"color: #153CEE; font-size: 20px; font-weight: bold;\">Ejercicio 3</span>. "
   ]
  },
  {
   "cell_type": "markdown",
   "metadata": {},
   "source": [
    "Aquí la descripción del ejercicio"
   ]
  },
  {
   "cell_type": "code",
   "execution_count": 5,
   "metadata": {
    "execution": {
     "iopub.execute_input": "2025-07-07T20:32:39.748365Z",
     "iopub.status.busy": "2025-07-07T20:32:39.747810Z",
     "iopub.status.idle": "2025-07-07T20:32:39.753856Z",
     "shell.execute_reply": "2025-07-07T20:32:39.752569Z",
     "shell.execute_reply.started": "2025-07-07T20:32:39.748335Z"
    },
    "trusted": true
   },
   "outputs": [
    {
     "name": "stdout",
     "output_type": "stream",
     "text": [
      "Aquí el código\n"
     ]
    }
   ],
   "source": [
    "print(\"Aquí el código\")"
   ]
  },
  {
   "cell_type": "markdown",
   "metadata": {},
   "source": [
    "<div id=ex_4></div>\n",
    "\n",
    "[[Menu]](#Menu)   |   [[Anterior]](#ex_3)   [[Siguiente]](#ex_5) \n",
    "___\n",
    "\n",
    "<span style=\"color: #153CEE; font-size: 20px; font-weight: bold;\">Ejercicio 4</span>. "
   ]
  },
  {
   "cell_type": "markdown",
   "metadata": {},
   "source": [
    "Aquí la descripción del ejercicio"
   ]
  },
  {
   "cell_type": "code",
   "execution_count": 6,
   "metadata": {
    "execution": {
     "iopub.execute_input": "2025-07-07T20:32:44.209687Z",
     "iopub.status.busy": "2025-07-07T20:32:44.209307Z",
     "iopub.status.idle": "2025-07-07T20:32:44.215398Z",
     "shell.execute_reply": "2025-07-07T20:32:44.213878Z",
     "shell.execute_reply.started": "2025-07-07T20:32:44.209659Z"
    },
    "trusted": true
   },
   "outputs": [
    {
     "name": "stdout",
     "output_type": "stream",
     "text": [
      "Aquí el código\n"
     ]
    }
   ],
   "source": [
    "print(\"Aquí el código\")"
   ]
  },
  {
   "cell_type": "markdown",
   "metadata": {},
   "source": [
    "<div id=ex_5></div>\n",
    "\n",
    "[[Menu]](#Menu)   |   [[Anterior]](#ex_4)   [[Siguiente]](#ex_6) \n",
    "___\n",
    "\n",
    "<span style=\"color: #153CEE; font-size: 20px; font-weight: bold;\">Ejercicio 5</span>. "
   ]
  },
  {
   "cell_type": "markdown",
   "metadata": {},
   "source": [
    "Aquí la descripción del ejercicio"
   ]
  },
  {
   "cell_type": "code",
   "execution_count": 7,
   "metadata": {
    "execution": {
     "iopub.execute_input": "2025-07-07T20:32:48.166269Z",
     "iopub.status.busy": "2025-07-07T20:32:48.165848Z",
     "iopub.status.idle": "2025-07-07T20:32:48.171340Z",
     "shell.execute_reply": "2025-07-07T20:32:48.170312Z",
     "shell.execute_reply.started": "2025-07-07T20:32:48.166240Z"
    },
    "trusted": true
   },
   "outputs": [
    {
     "name": "stdout",
     "output_type": "stream",
     "text": [
      "Aquí el código\n"
     ]
    }
   ],
   "source": [
    "print(\"Aquí el código\")"
   ]
  },
  {
   "cell_type": "markdown",
   "metadata": {},
   "source": [
    "<div id=ex_6></div>\n",
    "\n",
    "[[Menu]](#Menu)   |   [[Anterior]](#ex_5)   [[Siguiente]](#ex_7) \n",
    "___\n",
    "\n",
    "<span style=\"color: #153CEE; font-size: 20px; font-weight: bold;\">Ejercicio 6</span>. "
   ]
  },
  {
   "cell_type": "markdown",
   "metadata": {},
   "source": [
    "Aquí la descripción del ejercicio"
   ]
  },
  {
   "cell_type": "code",
   "execution_count": 8,
   "metadata": {
    "execution": {
     "iopub.execute_input": "2025-07-07T20:32:52.667702Z",
     "iopub.status.busy": "2025-07-07T20:32:52.667354Z",
     "iopub.status.idle": "2025-07-07T20:32:52.672860Z",
     "shell.execute_reply": "2025-07-07T20:32:52.671540Z",
     "shell.execute_reply.started": "2025-07-07T20:32:52.667677Z"
    },
    "trusted": true
   },
   "outputs": [
    {
     "name": "stdout",
     "output_type": "stream",
     "text": [
      "Aquí el código\n"
     ]
    }
   ],
   "source": [
    "print(\"Aquí el código\")"
   ]
  },
  {
   "cell_type": "markdown",
   "metadata": {},
   "source": [
    "<div id=ex_7></div>\n",
    "\n",
    "[[Menu]](#Menu)   |   [[Anterior]](#ex_6)   [[Siguiente]](#ex_8) \n",
    "___\n",
    "\n",
    "<span style=\"color: #153CEE; font-size: 20px; font-weight: bold;\">Ejercicio 7</span>. "
   ]
  },
  {
   "cell_type": "markdown",
   "metadata": {},
   "source": []
  },
  {
   "cell_type": "code",
   "execution_count": null,
   "metadata": {
    "trusted": true
   },
   "outputs": [],
   "source": []
  },
  {
   "cell_type": "markdown",
   "metadata": {},
   "source": [
    "<div id=ex_8></div>\n",
    "\n",
    "[[Menu]](#Menu)   |   [[Anterior]](#ex_7)   [[Siguiente]](#ex_9) \n",
    "___\n",
    "\n",
    "<span style=\"color: #153CEE; font-size: 20px; font-weight: bold;\">Ejercicio 8</span>. "
   ]
  },
  {
   "cell_type": "markdown",
   "metadata": {},
   "source": [
    "<p>\n",
    "    De una población normal, con media poblacional de 47, se toma una muestra aleatoria de tamaño 25. Si la desviación muestral tiene un valor de 14.6, calcule la probabilidad de que la media muestral tenga un valor menor que 42.\n",
    "</p>"
   ]
  },
  {
   "cell_type": "code",
   "execution_count": null,
   "metadata": {
    "trusted": true
   },
   "outputs": [],
   "source": []
  },
  {
   "cell_type": "markdown",
   "metadata": {},
   "source": [
    "<div id=ex_9></div>\n",
    "\n",
    "[[Menu]](#Menu)   |   [[Anterior]](#ex_8)  \n",
    "___\n",
    "\n",
    "<span style=\"color: #153CEE; font-size: 20px; font-weight: bold;\">Ejercicio 9</span>."
   ]
  },
  {
   "cell_type": "markdown",
   "metadata": {},
   "source": []
  },
  {
   "cell_type": "code",
   "execution_count": null,
   "metadata": {
    "trusted": true
   },
   "outputs": [],
   "source": [
    "\n"
   ]
  }
 ],
 "metadata": {
  "kaggle": {
   "accelerator": "none",
   "dataSources": [],
   "dockerImageVersionId": 31089,
   "isGpuEnabled": false,
   "isInternetEnabled": false,
   "language": "python",
   "sourceType": "notebook"
  },
  "kernelspec": {
   "display_name": "Python 3",
   "language": "python",
   "name": "python3"
  },
  "language_info": {
   "codemirror_mode": {
    "name": "ipython",
    "version": 3
   },
   "file_extension": ".py",
   "mimetype": "text/x-python",
   "name": "python",
   "nbconvert_exporter": "python",
   "pygments_lexer": "ipython3",
   "version": "3.11.13"
  }
 },
 "nbformat": 4,
 "nbformat_minor": 4
}
